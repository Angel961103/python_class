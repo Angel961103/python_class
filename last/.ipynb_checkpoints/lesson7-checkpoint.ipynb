{
 "cells": [
  {
   "cell_type": "code",
   "execution_count": 2,
   "metadata": {},
   "outputs": [
    {
     "name": "stdout",
     "output_type": "stream",
     "text": [
      "[]\n"
     ]
    }
   ],
   "source": [
    "my_list= []\n",
    "print (my_list)"
   ]
  },
  {
   "cell_type": "code",
   "execution_count": 3,
   "metadata": {},
   "outputs": [
    {
     "name": "stdout",
     "output_type": "stream",
     "text": [
      "['1', '2']\n"
     ]
    }
   ],
   "source": [
    "my_list.append(\"1\")\n",
    "my_list.append(\"2\")\n",
    "print(my_list)"
   ]
  },
  {
   "cell_type": "markdown",
   "metadata": {},
   "source": [
    "# My List\n",
    "\n",
    "- input\n",
    "- for"
   ]
  },
  {
   "cell_type": "code",
   "execution_count": 20,
   "metadata": {
    "scrolled": true
   },
   "outputs": [
    {
     "name": "stdout",
     "output_type": "stream",
     "text": [
      "What do you want to put in the list?1\n",
      "Is there anything else?2\n",
      "Do you need other things?3\n",
      "['1', '2', '3']\n"
     ]
    }
   ],
   "source": [
    "my_list=[]\n",
    "vaule1=input (\"What do you want to put in the list?\")\n",
    "vaule2=input(\"Is there anything else?\")\n",
    "vaule3=input(\"Do you need other things?\")\n",
    "my_list.append(vaule1)\n",
    "my_list.append(vaule2)\n",
    "my_list.append(vaule3)\n",
    "print (my_list)"
   ]
  },
  {
   "cell_type": "code",
   "execution_count": 22,
   "metadata": {},
   "outputs": [
    {
     "name": "stdout",
     "output_type": "stream",
     "text": [
      "What do you want to put in the list?1\n",
      "What do you want to put in the list?2\n",
      "What do you want to put in the list?3\n",
      "What do you want to put in the list?4\n",
      "What do you want to put in the list?5\n",
      "What do you want to put in the list?6\n",
      "What do you want to put in the list?7\n",
      "What do you want to put in the list?8\n",
      "What do you want to put in the list?9\n",
      "What do you want to put in the list?10\n",
      "['1', '2', '3', '4', '5', '6', '7', '8', '9', '10']\n"
     ]
    }
   ],
   "source": [
    "my_list=[]\n",
    "for i in range(10):\n",
    "    vaule1=input (\"What do you want to put in the list?\")\n",
    "    my_list.append(vaule1)\n",
    "print (my_list)"
   ]
  },
  {
   "cell_type": "code",
   "execution_count": 40,
   "metadata": {},
   "outputs": [
    {
     "name": "stdout",
     "output_type": "stream",
     "text": [
      "What do you want to put in the list?2\n",
      "What do you want to put in the list?2\n",
      "What do you want to put in the list?2\n",
      "What do you want to put in the list?2\n",
      "What do you want to put in the list?2\n",
      "What do you want to put in the list?2\n",
      "What do you want to put in the list?2\n",
      "What do you want to put in the list?2\n",
      "What do you want to put in the list?1\n",
      "What do you want to put in the list?2\n",
      "[]\n"
     ]
    }
   ],
   "source": [
    "my_list=[]\n",
    "vaule=input(\"What do you want to put in the list?\")\n",
    "for i in range(9):\n",
    "    vaule1=input (\"What do you want to put in the list?\")\n",
    "if vaule < vaule1:\n",
    "    my_list.append(vaule)\n",
    "elif vaule > vaule1:\n",
    "    my_list.append(vaule1)\n",
    "print (my_list)"
   ]
  },
  {
   "cell_type": "code",
   "execution_count": 54,
   "metadata": {},
   "outputs": [
    {
     "name": "stdout",
     "output_type": "stream",
     "text": [
      "Hi mimi\n"
     ]
    }
   ],
   "source": [
    "names=[\"mimi\",\"joanna\",]\n",
    "for j in range(len(names)):\n",
    "    if names[j] ==\"mimi\":\n",
    "        print(\"Hi\",names[j])"
   ]
  },
  {
   "cell_type": "code",
   "execution_count": null,
   "metadata": {},
   "outputs": [],
   "source": []
  },
  {
   "cell_type": "code",
   "execution_count": null,
   "metadata": {},
   "outputs": [],
   "source": []
  }
 ],
 "metadata": {
  "kernelspec": {
   "display_name": "Python 3",
   "language": "python",
   "name": "python3"
  },
  "language_info": {
   "codemirror_mode": {
    "name": "ipython",
    "version": 3
   },
   "file_extension": ".py",
   "mimetype": "text/x-python",
   "name": "python",
   "nbconvert_exporter": "python",
   "pygments_lexer": "ipython3",
   "version": "3.8.3"
  }
 },
 "nbformat": 4,
 "nbformat_minor": 4
}
